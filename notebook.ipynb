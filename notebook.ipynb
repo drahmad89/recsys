{
 "cells": [
  {
   "cell_type": "code",
   "execution_count": null,
   "metadata": {},
   "outputs": [],
   "source": [
    "import os\n",
    "import sys\n",
    "import numpy as np\n",
    "import glob\n",
    "import matplotlib.pyplot as plt\n",
    "\n"
   ]
  },
  {
   "cell_type": "code",
   "execution_count": null,
   "metadata": {},
   "outputs": [],
   "source": [
    "def extract_logs(file_name):\n",
    "    #iteration epoch loss acc\n",
    "    f=open(file_name,'r')\n",
    "    lines=[]\n",
    "    while True:\n",
    "        line = append(f.readline())\n",
    "        if not line:\n",
    "            break\n",
    "        lines.append(line.split(' '))\n",
    "    iteration = [x[0] for x in lines]\n",
    "    epoch = [x[1] for x in lines]\n",
    "    loss = [x[2] for x in lines]\n",
    "    acc = [x[3] for x in lines]\n",
    "    return iteration, epoch, loss, acc\n",
    "    \n",
    "        \n",
    "        "
   ]
  },
  {
   "cell_type": "code",
   "execution_count": null,
   "metadata": {},
   "outputs": [],
   "source": [
    "def plot(iteration,epoch,loss, acc):\n",
    "    plt.plot(iteration,loss, 'b-',iteration, acc, 'r-')\n",
    "    axes = plt.gca()\n",
    "    axes.set_ylim([0,1])\n",
    "    plt.xticks(list(plt.xticks()[0]) + epoch)\n",
    "    plt.xlabel('Samples Iteration')\n",
    "    plt.ylabel('some numbers')\n",
    "    plt.show()"
   ]
  },
  {
   "cell_type": "code",
   "execution_count": null,
   "metadata": {},
   "outputs": [],
   "source": [
    "files_dic={\n",
    "    'mcc_nmf_mse_train':\"mse_loss/Train/cardholder_mcc_cardholdermccscorings_Train_mse_loss_0.0001.txt\",\n",
    "    'mcc_nmf_mse_valid':\"mse_loss/Train/cardholder_mcc_cardholdermccscorings_Valid_mse_loss_0.0001.txt\",\n",
    "    'mcc_nmf_ce_train':\"mse_loss/Train/cardholder_mcc_cardholdermccscorings_Train_cross_entropy_0.0001.txt\",\n",
    "    'mcc_nmf_ce_valid':\"mse_loss/Train/cardholder_mcc_cardholdermccscorings_Train_cross_entropy_0.0001.txt\",\n",
    "    'mcc_mf_mse_train':\"\",\n",
    "    'mcc_mf_mse_valid':\"\",\n",
    "    'mcc_mf_ce_train':\"\",\n",
    "    'mcc_mf_ce_valid':\"\",\n",
    "}\n"
   ]
  },
  {
   "cell_type": "code",
   "execution_count": null,
   "metadata": {},
   "outputs": [],
   "source": [
    "iteration, epoch, loss, acc = extract_logs(files_dic['mcc_nmf_mse_train'])\n",
    "plot(iteration,epoch,loss, acc)"
   ]
  }
 ],
 "metadata": {
  "kernelspec": {
   "display_name": "Python 3",
   "language": "python",
   "name": "python3"
  },
  "language_info": {
   "codemirror_mode": {
    "name": "ipython",
    "version": 3
   },
   "file_extension": ".py",
   "mimetype": "text/x-python",
   "name": "python",
   "nbconvert_exporter": "python",
   "pygments_lexer": "ipython3",
   "version": "3.5.2"
  }
 },
 "nbformat": 4,
 "nbformat_minor": 4
}
